{
 "cells": [
  {
   "cell_type": "code",
   "execution_count": 1,
   "id": "73ad8b56-3600-4e6b-abfb-e01a2a0e0915",
   "metadata": {},
   "outputs": [],
   "source": [
    "import pandas as pd\n",
    "import numpy as np"
   ]
  },
  {
   "cell_type": "code",
   "execution_count": 2,
   "id": "9e075e09-4f76-4fdc-a991-b2a18b9ed1c8",
   "metadata": {},
   "outputs": [
    {
     "name": "stdout",
     "output_type": "stream",
     "text": [
      "saving array       ID     Project     Cost    Status\n",
      "0   A001   Project 1  1002000  Finished\n",
      "1   A002   Project 2  2000000   Ongoing\n",
      "2   A003   Project 3  4500000  Finished\n",
      "3   A004   Project 4  5500000   Ongoing\n",
      "4   A005   Project 5           Finished\n",
      "5   A002   Project 6   680000    Failed\n",
      "6   A005   Project 7   400000  Finished\n",
      "7   A003   Project 8   350000    Failed\n",
      "8   A001   Project 9            Ongoing\n",
      "9   A003  Project 10   300000  Finished\n",
      "10  A001  Project 11  2000000    Failed\n",
      "11  A004  Project 12  1000000   Ongoing\n",
      "12  A004  Project 13  3000000  Finished\n",
      "13  A005  Project 14   200000  Finished in file .\\project.csv\n"
     ]
    }
   ],
   "source": [
    "#Task 1\n",
    "#saving project dataframe into csv\n",
    "\n",
    "project = pd.DataFrame({\"ID\":['A001','A002','A003','A004','A005','A002','A005','A003','A001','A003','A001','A004','A004','A005'],\"Project\":['Project 1','Project 2','Project 3','Project 4','Project 5','Project 6','Project 7','Project 8','Project 9','Project 10','Project 11','Project 12','Project 13','Project 14'],\"Cost\":[1002000,2000000,4500000,5500000,'',680000,400000,350000,'',300000,2000000,1000000,3000000,200000],\"Status\":['Finished','Ongoing','Finished','Ongoing','Finished','Failed','Finished','Failed','Ongoing','Finished','Failed','Ongoing','Finished','Finished']})\n",
    "base_path = '.'\n",
    "file_name = 'project.csv'\n",
    "\n",
    "# Using python os module to join directory path and relative file path\n",
    "import os\n",
    "out = os.path.join(base_path,file_name)\n",
    "print(\"saving array {} in file {}\".format(project, out))\n",
    "\n",
    "# fmt can be specified as integer, float, string, etc\n",
    "np.savetxt(out,project, delimiter=',',fmt = '%s')\n"
   ]
  },
  {
   "cell_type": "code",
   "execution_count": 3,
   "id": "2045e0ee-0b08-4f5e-a952-287f041b7a4a",
   "metadata": {},
   "outputs": [
    {
     "name": "stdout",
     "output_type": "stream",
     "text": [
      "saving array      ID             Name Gender     City  Age\n",
      "0  A001       John Alter      M    Paris   25\n",
      "1  A002  Alice Luxumberg      F   London   27\n",
      "2  A003    Tom Sabestine      M   Berlin   29\n",
      "3  A004       Nina Adgra      F  Newyork   31\n",
      "4  A005        Amy Johny      F   Madrid   30 in file .\\employee.csv\n"
     ]
    }
   ],
   "source": [
    "#saving employee dataframe into csv\n",
    "\n",
    "employee = pd.DataFrame({\"ID\":['A001','A002','A003','A004','A005'],\"Name\":['John Alter','Alice Luxumberg','Tom Sabestine','Nina Adgra','Amy Johny'],\"Gender\":['M','F','M','F','F'],\"City\":['Paris','London','Berlin','Newyork','Madrid'],\"Age\":[25,27,29,31,30]})\n",
    "base_path = '.'\n",
    "file_name = 'employee.csv'\n",
    "\n",
    "# Using python os module to join directory path and relative file path\n",
    "import os\n",
    "out = os.path.join(base_path,file_name)\n",
    "print(\"saving array {} in file {}\".format(employee, out))\n",
    "\n",
    "# fmt can be specified as integer, float, string, etc\n",
    "np.savetxt(out,employee, delimiter=',',fmt = '%s')\n",
    "\n"
   ]
  },
  {
   "cell_type": "code",
   "execution_count": 4,
   "id": "e2fbd5db-d4d3-42a5-ab26-28ad3fb16b41",
   "metadata": {},
   "outputs": [
    {
     "name": "stdout",
     "output_type": "stream",
     "text": [
      "saving array      ID  Designation Level\n",
      "0  A001                  2\n",
      "1  A002                  2\n",
      "2  A003                  3\n",
      "3  A004                  2\n",
      "4  A005                  3 in file .\\seniority_np.csv\n"
     ]
    }
   ],
   "source": [
    "#saving seniority dataframe into csv\n",
    "\n",
    "seniority = pd.DataFrame({\"ID\":['A001','A002','A003','A004','A005'], \"Designation Level\":[2,2,3,2,3]})\n",
    "base_path = '.'\n",
    "file_name = 'seniority_np.csv'\n",
    "# Using python os module to join directory path and relative file path\n",
    "import os\n",
    "out = os.path.join(base_path,file_name)\n",
    "print(\"saving array {} in file {}\".format(seniority, out))\n",
    "\n",
    "# fmt can be specified as integer, float, string, etc\n",
    "np.savetxt(out,seniority, delimiter=',',fmt = '%s')"
   ]
  },
  {
   "cell_type": "code",
   "execution_count": 5,
   "id": "aca99259-f78a-4805-b279-76b7c2ebd007",
   "metadata": {},
   "outputs": [],
   "source": [
    "#Task 2 \n",
    "\n",
    "# Convert the Cost column to numeric, replacing errors with NaN\n",
    "project['Cost'] = pd.to_numeric(project['Cost'])\n",
    "\n",
    "# Replace missing values with running average from project dataframe\n",
    "sum_cost = 0\n",
    "count = 0\n",
    "\n",
    "for i in range(len(project)):\n",
    "    if pd.isna(project.loc[i, 'Cost']):\n",
    "        if count > 0:\n",
    "            project.loc[i, 'Cost'] = sum_cost / count\n",
    "    else:\n",
    "        sum_cost += project.loc[i, 'Cost']\n",
    "        count += 1"
   ]
  },
  {
   "cell_type": "code",
   "execution_count": 6,
   "id": "fe5e343f-3319-41da-b597-eecaa2cf0e57",
   "metadata": {},
   "outputs": [
    {
     "data": {
      "text/html": [
       "<div>\n",
       "<style scoped>\n",
       "    .dataframe tbody tr th:only-of-type {\n",
       "        vertical-align: middle;\n",
       "    }\n",
       "\n",
       "    .dataframe tbody tr th {\n",
       "        vertical-align: top;\n",
       "    }\n",
       "\n",
       "    .dataframe thead th {\n",
       "        text-align: right;\n",
       "    }\n",
       "</style>\n",
       "<table border=\"1\" class=\"dataframe\">\n",
       "  <thead>\n",
       "    <tr style=\"text-align: right;\">\n",
       "      <th></th>\n",
       "      <th>ID</th>\n",
       "      <th>Gender</th>\n",
       "      <th>City</th>\n",
       "      <th>Age</th>\n",
       "      <th>FirstName</th>\n",
       "      <th>LastName</th>\n",
       "    </tr>\n",
       "  </thead>\n",
       "  <tbody>\n",
       "    <tr>\n",
       "      <th>0</th>\n",
       "      <td>A001</td>\n",
       "      <td>M</td>\n",
       "      <td>Paris</td>\n",
       "      <td>25</td>\n",
       "      <td>John</td>\n",
       "      <td>Alter</td>\n",
       "    </tr>\n",
       "    <tr>\n",
       "      <th>1</th>\n",
       "      <td>A002</td>\n",
       "      <td>F</td>\n",
       "      <td>London</td>\n",
       "      <td>27</td>\n",
       "      <td>Alice</td>\n",
       "      <td>Luxumberg</td>\n",
       "    </tr>\n",
       "    <tr>\n",
       "      <th>2</th>\n",
       "      <td>A003</td>\n",
       "      <td>M</td>\n",
       "      <td>Berlin</td>\n",
       "      <td>29</td>\n",
       "      <td>Tom</td>\n",
       "      <td>Sabestine</td>\n",
       "    </tr>\n",
       "    <tr>\n",
       "      <th>3</th>\n",
       "      <td>A004</td>\n",
       "      <td>F</td>\n",
       "      <td>Newyork</td>\n",
       "      <td>31</td>\n",
       "      <td>Nina</td>\n",
       "      <td>Adgra</td>\n",
       "    </tr>\n",
       "    <tr>\n",
       "      <th>4</th>\n",
       "      <td>A005</td>\n",
       "      <td>F</td>\n",
       "      <td>Madrid</td>\n",
       "      <td>30</td>\n",
       "      <td>Amy</td>\n",
       "      <td>Johny</td>\n",
       "    </tr>\n",
       "  </tbody>\n",
       "</table>\n",
       "</div>"
      ],
      "text/plain": [
       "     ID Gender     City  Age FirstName   LastName\n",
       "0  A001      M    Paris   25      John      Alter\n",
       "1  A002      F   London   27     Alice  Luxumberg\n",
       "2  A003      M   Berlin   29       Tom  Sabestine\n",
       "3  A004      F  Newyork   31      Nina      Adgra\n",
       "4  A005      F   Madrid   30       Amy      Johny"
      ]
     },
     "execution_count": 6,
     "metadata": {},
     "output_type": "execute_result"
    }
   ],
   "source": [
    "#Task 3\n",
    "\n",
    "# Ensure the 'Name' column is of type str\n",
    "employee['Name'] = employee['Name'].astype(str)\n",
    "\n",
    "# Splitting the Name column into First Name and Last Name\n",
    "employee[['FirstName','LastName']] = employee['Name'].loc[employee['Name'].str.split().str.len() == 2].str.split(expand = True)\n",
    "\n",
    "# Dropping the original Name column\n",
    "employee = employee.drop(columns = ['Name'])\n",
    "\n",
    "#Updated dataframe\n",
    "employee"
   ]
  },
  {
   "cell_type": "code",
   "execution_count": 7,
   "id": "741d9870-c6bd-4fd8-b82d-228c0774609b",
   "metadata": {},
   "outputs": [
    {
     "name": "stdout",
     "output_type": "stream",
     "text": [
      "      ID     Project          Cost    Status Gender     City  Age FirstName  \\\n",
      "0   A001   Project 1  1.002000e+06  Finished      M    Paris   25      John   \n",
      "1   A002   Project 2  2.000000e+06   Ongoing      F   London   27     Alice   \n",
      "2   A003   Project 3  4.500000e+06  Finished      M   Berlin   29       Tom   \n",
      "3   A004   Project 4  5.500000e+06   Ongoing      F  Newyork   31      Nina   \n",
      "4   A005   Project 5  3.250500e+06  Finished      F   Madrid   30       Amy   \n",
      "5   A002   Project 6  6.800000e+05    Failed      F   London   27     Alice   \n",
      "6   A005   Project 7  4.000000e+05  Finished      F   Madrid   30       Amy   \n",
      "7   A003   Project 8  3.500000e+05    Failed      M   Berlin   29       Tom   \n",
      "8   A001   Project 9  2.061714e+06   Ongoing      M    Paris   25      John   \n",
      "9   A003  Project 10  3.000000e+05  Finished      M   Berlin   29       Tom   \n",
      "10  A001  Project 11  2.000000e+06    Failed      M    Paris   25      John   \n",
      "11  A004  Project 12  1.000000e+06   Ongoing      F  Newyork   31      Nina   \n",
      "12  A004  Project 13  3.000000e+06  Finished      F  Newyork   31      Nina   \n",
      "13  A005  Project 14  2.000000e+05  Finished      F   Madrid   30       Amy   \n",
      "\n",
      "     LastName  Designation Level  \n",
      "0       Alter                  2  \n",
      "1   Luxumberg                  2  \n",
      "2   Sabestine                  3  \n",
      "3       Adgra                  2  \n",
      "4       Johny                  3  \n",
      "5   Luxumberg                  2  \n",
      "6       Johny                  3  \n",
      "7   Sabestine                  3  \n",
      "8       Alter                  2  \n",
      "9   Sabestine                  3  \n",
      "10      Alter                  2  \n",
      "11      Adgra                  2  \n",
      "12      Adgra                  2  \n",
      "13      Johny                  3  \n"
     ]
    }
   ],
   "source": [
    "#Task 4 \n",
    "#Joining all three dataframes in one single dataframe\n",
    "\n",
    "Final = project.merge(employee, on = 'ID').merge(seniority, on = 'ID')\n",
    "\n",
    "print(Final)\n"
   ]
  },
  {
   "cell_type": "code",
   "execution_count": 8,
   "id": "de11a9cf-9685-4691-9520-3d3e54cc00d0",
   "metadata": {},
   "outputs": [
    {
     "name": "stdout",
     "output_type": "stream",
     "text": [
      "      ID     Project          Cost    Status Gender     City  Age FirstName  \\\n",
      "0   A001   Project 1  1.002000e+06  Finished      M    Paris   25      John   \n",
      "1   A002   Project 2  2.000000e+06   Ongoing      F   London   27     Alice   \n",
      "2   A003   Project 3  4.500000e+06  Finished      M   Berlin   29       Tom   \n",
      "3   A004   Project 4  5.500000e+06   Ongoing      F  Newyork   31      Nina   \n",
      "4   A005   Project 5  3.250500e+06  Finished      F   Madrid   30       Amy   \n",
      "5   A002   Project 6  6.800000e+05    Failed      F   London   27     Alice   \n",
      "6   A005   Project 7  4.000000e+05  Finished      F   Madrid   30       Amy   \n",
      "7   A003   Project 8  3.500000e+05    Failed      M   Berlin   29       Tom   \n",
      "8   A001   Project 9  2.061714e+06   Ongoing      M    Paris   25      John   \n",
      "9   A003  Project 10  3.000000e+05  Finished      M   Berlin   29       Tom   \n",
      "10  A001  Project 11  2.000000e+06    Failed      M    Paris   25      John   \n",
      "11  A004  Project 12  1.000000e+06   Ongoing      F  Newyork   31      Nina   \n",
      "12  A004  Project 13  3.000000e+06  Finished      F  Newyork   31      Nina   \n",
      "13  A005  Project 14  2.000000e+05  Finished      F   Madrid   30       Amy   \n",
      "\n",
      "     LastName  Designation Level      Bonus  \n",
      "0       Alter                  2  1052100.0  \n",
      "1   Luxumberg                  2        0.0  \n",
      "2   Sabestine                  3  4725000.0  \n",
      "3       Adgra                  2        0.0  \n",
      "4       Johny                  3  3413025.0  \n",
      "5   Luxumberg                  2        0.0  \n",
      "6       Johny                  3   420000.0  \n",
      "7   Sabestine                  3        0.0  \n",
      "8       Alter                  2        0.0  \n",
      "9   Sabestine                  3   315000.0  \n",
      "10      Alter                  2        0.0  \n",
      "11      Adgra                  2        0.0  \n",
      "12      Adgra                  2  3150000.0  \n",
      "13      Johny                  3   210000.0  \n"
     ]
    }
   ],
   "source": [
    "#Task 5 \n",
    "#Giving 5% bonus cost only to employees who have finished the projects\n",
    "\n",
    "Final['Bonus'] = Final.apply(lambda row: (row['Cost']*0.05 + row.Cost) if row.Status =='Finished' else 0, axis=1)\n",
    "print(Final)"
   ]
  },
  {
   "cell_type": "code",
   "execution_count": 9,
   "id": "b0498386-233e-492b-826c-ddbfa120e03f",
   "metadata": {},
   "outputs": [
    {
     "name": "stdout",
     "output_type": "stream",
     "text": [
      "      ID     Project          Cost    Status Gender     City  Age FirstName  \\\n",
      "0   A001   Project 1  1.002000e+06  Finished      M    Paris   25      John   \n",
      "1   A002   Project 2  2.000000e+06   Ongoing      F   London   27     Alice   \n",
      "2   A003   Project 3  4.500000e+06  Finished      M   Berlin   29       Tom   \n",
      "3   A004   Project 4  5.500000e+06   Ongoing      F  Newyork   31      Nina   \n",
      "4   A005   Project 5  3.250500e+06  Finished      F   Madrid   30       Amy   \n",
      "5   A002   Project 6  6.800000e+05    Failed      F   London   27     Alice   \n",
      "6   A005   Project 7  4.000000e+05  Finished      F   Madrid   30       Amy   \n",
      "7   A003   Project 8  3.500000e+05    Failed      M   Berlin   29       Tom   \n",
      "8   A001   Project 9  2.061714e+06   Ongoing      M    Paris   25      John   \n",
      "9   A003  Project 10  3.000000e+05  Finished      M   Berlin   29       Tom   \n",
      "10  A001  Project 11  2.000000e+06    Failed      M    Paris   25      John   \n",
      "11  A004  Project 12  1.000000e+06   Ongoing      F  Newyork   31      Nina   \n",
      "12  A004  Project 13  3.000000e+06  Finished      F  Newyork   31      Nina   \n",
      "13  A005  Project 14  2.000000e+05  Finished      F   Madrid   30       Amy   \n",
      "\n",
      "     LastName  Designation Level      Bonus  \n",
      "0       Alter                  2  1052100.0  \n",
      "1   Luxumberg                  2        0.0  \n",
      "2   Sabestine                  3  4725000.0  \n",
      "3       Adgra                  2        0.0  \n",
      "4       Johny                  3  3413025.0  \n",
      "5   Luxumberg                  1        0.0  \n",
      "6       Johny                  3   420000.0  \n",
      "7   Sabestine                  2        0.0  \n",
      "8       Alter                  2        0.0  \n",
      "9   Sabestine                  3   315000.0  \n",
      "10      Alter                  1        0.0  \n",
      "11      Adgra                  2        0.0  \n",
      "12      Adgra                  2  3150000.0  \n",
      "13      Johny                  3   210000.0  \n"
     ]
    }
   ],
   "source": [
    "#Task 6 \n",
    "#Demote the designation level by 1, whose projects have status “fail”. \n",
    "\n",
    "Final['Designation Level'] = Final.apply(lambda row: (row['Designation Level'] - 1) if row['Status'] == 'Failed' else row['Designation Level'], axis=1)\n",
    "\n",
    "#Delete the employees record whose designation level is above 4.\n",
    "#Identify the indexes to drop\n",
    "index_drop = Final[Final['Designation Level'] > 4].index\n",
    "\n",
    "# Drop those indexes\n",
    "Final = Final.drop(index_drop)\n",
    "\n",
    "print(Final)\n"
   ]
  },
  {
   "cell_type": "code",
   "execution_count": 10,
   "id": "c54fe944-c1dd-4fbe-8379-124ef95b738e",
   "metadata": {},
   "outputs": [
    {
     "name": "stdout",
     "output_type": "stream",
     "text": [
      "      ID     Project          Cost    Status     City  Age   FirstName  \\\n",
      "0   A001   Project 1  1.002000e+06  Finished    Paris   25    Mr. John   \n",
      "1   A002   Project 2  2.000000e+06   Ongoing   London   27  Mrs. Alice   \n",
      "2   A003   Project 3  4.500000e+06  Finished   Berlin   29     Mr. Tom   \n",
      "3   A004   Project 4  5.500000e+06   Ongoing  Newyork   31   Mrs. Nina   \n",
      "4   A005   Project 5  3.250500e+06  Finished   Madrid   30    Mrs. Amy   \n",
      "5   A002   Project 6  6.800000e+05    Failed   London   27  Mrs. Alice   \n",
      "6   A005   Project 7  4.000000e+05  Finished   Madrid   30    Mrs. Amy   \n",
      "7   A003   Project 8  3.500000e+05    Failed   Berlin   29     Mr. Tom   \n",
      "8   A001   Project 9  2.061714e+06   Ongoing    Paris   25    Mr. John   \n",
      "9   A003  Project 10  3.000000e+05  Finished   Berlin   29     Mr. Tom   \n",
      "10  A001  Project 11  2.000000e+06    Failed    Paris   25    Mr. John   \n",
      "11  A004  Project 12  1.000000e+06   Ongoing  Newyork   31   Mrs. Nina   \n",
      "12  A004  Project 13  3.000000e+06  Finished  Newyork   31   Mrs. Nina   \n",
      "13  A005  Project 14  2.000000e+05  Finished   Madrid   30    Mrs. Amy   \n",
      "\n",
      "     LastName  Designation Level      Bonus  \n",
      "0       Alter                  2  1052100.0  \n",
      "1   Luxumberg                  2        0.0  \n",
      "2   Sabestine                  3  4725000.0  \n",
      "3       Adgra                  2        0.0  \n",
      "4       Johny                  3  3413025.0  \n",
      "5   Luxumberg                  1        0.0  \n",
      "6       Johny                  3   420000.0  \n",
      "7   Sabestine                  2        0.0  \n",
      "8       Alter                  2        0.0  \n",
      "9   Sabestine                  3   315000.0  \n",
      "10      Alter                  1        0.0  \n",
      "11      Adgra                  2        0.0  \n",
      "12      Adgra                  2  3150000.0  \n",
      "13      Johny                  3   210000.0  \n"
     ]
    }
   ],
   "source": [
    "#Task 7 \n",
    "#Add “Mr.” and “Mrs.” to the first name column \n",
    "Final['FirstName'] = Final.apply(lambda row: ('Mr. ' + row['FirstName']) if row['Gender'] == 'M' else ('Mrs. ' + row['FirstName']), axis = 1)\n",
    "\n",
    "# Drop the Gender column\n",
    "Final = Final.drop(columns = ['Gender'])\n",
    "print(Final)"
   ]
  },
  {
   "cell_type": "code",
   "execution_count": 11,
   "id": "14edbad8-88bd-4d4f-b4ec-8cbd22c51c84",
   "metadata": {},
   "outputs": [
    {
     "name": "stdout",
     "output_type": "stream",
     "text": [
      "      ID     Project          Cost    Status     City  Age   FirstName  \\\n",
      "0   A001   Project 1  1.002000e+06  Finished    Paris   25    Mr. John   \n",
      "1   A002   Project 2  2.000000e+06   Ongoing   London   27  Mrs. Alice   \n",
      "2   A003   Project 3  4.500000e+06  Finished   Berlin   29     Mr. Tom   \n",
      "3   A004   Project 4  5.500000e+06   Ongoing  Newyork   31   Mrs. Nina   \n",
      "4   A005   Project 5  3.250500e+06  Finished   Madrid   30    Mrs. Amy   \n",
      "5   A002   Project 6  6.800000e+05    Failed   London   27  Mrs. Alice   \n",
      "6   A005   Project 7  4.000000e+05  Finished   Madrid   30    Mrs. Amy   \n",
      "7   A003   Project 8  3.500000e+05    Failed   Berlin   29     Mr. Tom   \n",
      "8   A001   Project 9  2.061714e+06   Ongoing    Paris   25    Mr. John   \n",
      "9   A003  Project 10  3.000000e+05  Finished   Berlin   29     Mr. Tom   \n",
      "10  A001  Project 11  2.000000e+06    Failed    Paris   25    Mr. John   \n",
      "11  A004  Project 12  1.000000e+06   Ongoing  Newyork   31   Mrs. Nina   \n",
      "12  A004  Project 13  3.000000e+06  Finished  Newyork   31   Mrs. Nina   \n",
      "13  A005  Project 14  2.000000e+05  Finished   Madrid   30    Mrs. Amy   \n",
      "\n",
      "     LastName  Designation Level      Bonus  \n",
      "0       Alter                  2  1052100.0  \n",
      "1   Luxumberg                  2        0.0  \n",
      "2   Sabestine                  3  4725000.0  \n",
      "3       Adgra                  3        0.0  \n",
      "4       Johny                  4  3413025.0  \n",
      "5   Luxumberg                  1        0.0  \n",
      "6       Johny                  4   420000.0  \n",
      "7   Sabestine                  2        0.0  \n",
      "8       Alter                  2        0.0  \n",
      "9   Sabestine                  3   315000.0  \n",
      "10      Alter                  1        0.0  \n",
      "11      Adgra                  3        0.0  \n",
      "12      Adgra                  3  3150000.0  \n",
      "13      Johny                  4   210000.0  \n"
     ]
    }
   ],
   "source": [
    "#Task 8 \n",
    "#Promote designation level by 1 for the employees whose age is more than 29 years using IF condition.\n",
    "Final['Designation Level'] = Final.apply (lambda row: (row['Designation Level'] + 1) if row['Age'] > 29 else row['Designation Level'],axis = 1)\n",
    "\n",
    "print(Final)"
   ]
  },
  {
   "cell_type": "code",
   "execution_count": 12,
   "id": "bed0a9a8-165f-414c-8924-58158fedd497",
   "metadata": {},
   "outputs": [
    {
     "name": "stdout",
     "output_type": "stream",
     "text": [
      "ID    FirstName \n",
      "A001  Mr. John      5.063714e+06\n",
      "A002  Mrs. Alice    2.680000e+06\n",
      "A003  Mr. Tom       5.150000e+06\n",
      "A004  Mrs. Nina     9.500000e+06\n",
      "A005  Mrs. Amy      3.850500e+06\n",
      "Name: Cost, dtype: float64\n"
     ]
    }
   ],
   "source": [
    "#Task 9\n",
    "#Add the cost of all projects for each Employee and save it in new dataframe “TotalProjCost” with three columns ID, First Name, and Total cos\n",
    "\n",
    "TotalProjCost = Final.groupby(['ID','FirstName'])['Cost'].sum()\n",
    "\n",
    "print(TotalProjCost)"
   ]
  },
  {
   "cell_type": "code",
   "execution_count": 13,
   "id": "d3d18788-6788-49b3-be5c-46411e9c4187",
   "metadata": {},
   "outputs": [
    {
     "data": {
      "text/html": [
       "<div>\n",
       "<style scoped>\n",
       "    .dataframe tbody tr th:only-of-type {\n",
       "        vertical-align: middle;\n",
       "    }\n",
       "\n",
       "    .dataframe tbody tr th {\n",
       "        vertical-align: top;\n",
       "    }\n",
       "\n",
       "    .dataframe thead th {\n",
       "        text-align: right;\n",
       "    }\n",
       "</style>\n",
       "<table border=\"1\" class=\"dataframe\">\n",
       "  <thead>\n",
       "    <tr style=\"text-align: right;\">\n",
       "      <th></th>\n",
       "      <th>ID</th>\n",
       "      <th>Gender</th>\n",
       "      <th>City</th>\n",
       "      <th>Age</th>\n",
       "      <th>FirstName</th>\n",
       "      <th>LastName</th>\n",
       "    </tr>\n",
       "  </thead>\n",
       "  <tbody>\n",
       "    <tr>\n",
       "      <th>1</th>\n",
       "      <td>A002</td>\n",
       "      <td>F</td>\n",
       "      <td>London</td>\n",
       "      <td>27</td>\n",
       "      <td>Alice</td>\n",
       "      <td>Luxumberg</td>\n",
       "    </tr>\n",
       "    <tr>\n",
       "      <th>3</th>\n",
       "      <td>A004</td>\n",
       "      <td>F</td>\n",
       "      <td>Newyork</td>\n",
       "      <td>31</td>\n",
       "      <td>Nina</td>\n",
       "      <td>Adgra</td>\n",
       "    </tr>\n",
       "  </tbody>\n",
       "</table>\n",
       "</div>"
      ],
      "text/plain": [
       "     ID Gender     City  Age FirstName   LastName\n",
       "1  A002      F   London   27     Alice  Luxumberg\n",
       "3  A004      F  Newyork   31      Nina      Adgra"
      ]
     },
     "execution_count": 13,
     "metadata": {},
     "output_type": "execute_result"
    }
   ],
   "source": [
    "#Task 10 \n",
    "#Print all the employee details whose city name contains the letter “o” in it.\n",
    "\n",
    "employee[employee['City'].str.contains('o')]\n"
   ]
  },
  {
   "cell_type": "code",
   "execution_count": null,
   "id": "c178897b-5483-4187-8727-74bb58ed85b2",
   "metadata": {},
   "outputs": [],
   "source": []
  }
 ],
 "metadata": {
  "kernelspec": {
   "display_name": "Python 3 (ipykernel)",
   "language": "python",
   "name": "python3"
  },
  "language_info": {
   "codemirror_mode": {
    "name": "ipython",
    "version": 3
   },
   "file_extension": ".py",
   "mimetype": "text/x-python",
   "name": "python",
   "nbconvert_exporter": "python",
   "pygments_lexer": "ipython3",
   "version": "3.12.4"
  }
 },
 "nbformat": 4,
 "nbformat_minor": 5
}
